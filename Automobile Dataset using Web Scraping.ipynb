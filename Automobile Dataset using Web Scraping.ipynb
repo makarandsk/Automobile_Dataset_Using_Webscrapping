{
 "cells": [
  {
   "cell_type": "code",
   "execution_count": 1,
   "metadata": {},
   "outputs": [],
   "source": [
    "# Importing Libraries\n",
    "from bs4 import BeautifulSoup as bs\n",
    "import requests\n",
    "import re\n",
    "import pandas as pd"
   ]
  },
  {
   "cell_type": "code",
   "execution_count": 2,
   "metadata": {},
   "outputs": [],
   "source": [
    "# Storing link\n",
    "link = 'https://www.autocarindia.com/car-news/top-10-selling-cars-suvs-in-india-in-fy2022-424413'"
   ]
  },
  {
   "cell_type": "code",
   "execution_count": 3,
   "metadata": {},
   "outputs": [
    {
     "data": {
      "text/plain": [
       "<Response [200]>"
      ]
     },
     "execution_count": 3,
     "metadata": {},
     "output_type": "execute_result"
    }
   ],
   "source": [
    "# Checking and storing link's response\n",
    "page = requests.get(link)\n",
    "page"
   ]
  },
  {
   "cell_type": "code",
   "execution_count": 4,
   "metadata": {},
   "outputs": [],
   "source": [
    "# Storing page content\n",
    "soup=bs(page.content,\"html.parser\")"
   ]
  },
  {
   "cell_type": "code",
   "execution_count": 5,
   "metadata": {
    "scrolled": true
   },
   "outputs": [],
   "source": [
    "# Prining the content\n",
    "# print(soup.prettify())"
   ]
  },
  {
   "cell_type": "markdown",
   "metadata": {},
   "source": [
    "# Title"
   ]
  },
  {
   "cell_type": "code",
   "execution_count": 6,
   "metadata": {},
   "outputs": [
    {
     "name": "stdout",
     "output_type": "stream",
     "text": [
      "Top-10 best selling cars, SUVs in India in FY2022 | Autocar India\n"
     ]
    }
   ],
   "source": [
    "# Scraping and storing the title\n",
    "title = soup.title\n",
    "print(title.get_text())"
   ]
  },
  {
   "cell_type": "code",
   "execution_count": 7,
   "metadata": {},
   "outputs": [
    {
     "data": {
      "text/plain": [
       "[<span style=\"color:#ff0000\">Maruti Suzuki Wagon R: 1,88,838 units sold</span>,\n",
       " <span style=\"color:#ff0000\">Maruti Suzuki Swift: 1,67,827 units sold</span>,\n",
       " <span style=\"color:#ff0000\">Maruti Suzuki Baleno: 1,48,187 units sold </span>,\n",
       " <span style=\"color:#ff0000\">Maruti Suzuki Alto: 1,45,167 units sold </span>,\n",
       " <span style=\"color:#ff0000\">Tata Nexon: 1,24,130 units sold </span>,\n",
       " <span style=\"color:#ff0000\">Hyundai Creta: 1,18,092 units sold</span>,\n",
       " <span style=\"color:#ff0000\">Maruti Suzuki Ertiga: 1,17,150 units sold </span>,\n",
       " <span style=\"color:#ff0000\">Maruti Suzuki Vitara Brezza: 1,13,751 units sold </span>,\n",
       " <span style=\"color:#ff0000\">Maruti Suzuki Dzire: 1,08,564 units sold</span>,\n",
       " <span style=\"color:#ff0000\">Maruti Eeco: 1,08,345 units sold</span>]"
      ]
     },
     "execution_count": 7,
     "metadata": {},
     "output_type": "execute_result"
    }
   ],
   "source": [
    "# Scraping name of the cars using find_all\n",
    "car_name = soup.find_all(\"span\", style = \"color:#ff0000\")\n",
    "car_name"
   ]
  },
  {
   "cell_type": "code",
   "execution_count": 8,
   "metadata": {},
   "outputs": [
    {
     "data": {
      "text/plain": [
       "['Maruti Suzuki Wagon R',\n",
       " 'Maruti Suzuki Swift',\n",
       " 'Maruti Suzuki Baleno',\n",
       " 'Maruti Suzuki Alto',\n",
       " 'Tata Nexon',\n",
       " 'Hyundai Creta',\n",
       " 'Maruti Suzuki Ertiga',\n",
       " 'Maruti Suzuki Vitara Brezza',\n",
       " 'Maruti Suzuki Dzire',\n",
       " 'Maruti Eeco']"
      ]
     },
     "execution_count": 8,
     "metadata": {},
     "output_type": "execute_result"
    }
   ],
   "source": [
    "# Extracting car names from scraped data\n",
    "car_names = []\n",
    "for i in range(len(car_name)):\n",
    "    car_names.append(car_name[i].get_text().split(':')[0])\n",
    "car_names"
   ]
  },
  {
   "cell_type": "code",
   "execution_count": 9,
   "metadata": {},
   "outputs": [
    {
     "data": {
      "text/plain": [
       "[' 1,88,838 units sold',\n",
       " ' 1,67,827 units sold',\n",
       " ' 1,48,187 units sold',\n",
       " ' 1,45,167 units sold',\n",
       " ' 1,24,130 units sold',\n",
       " ' 1,18,092 units sold',\n",
       " ' 1,17,150 units sold',\n",
       " ' 1,13,751 units sold',\n",
       " ' 1,08,564 units sold',\n",
       " ' 1,08,345 units sold']"
      ]
     },
     "execution_count": 9,
     "metadata": {},
     "output_type": "execute_result"
    }
   ],
   "source": [
    "# Extracting scrapped units sold of each car\n",
    "unit_sold = []\n",
    "for i in range(len(car_name)):\n",
    "    unit_sold.append(car_name[i].get_text().strip().split(':')[1])\n",
    "unit_sold"
   ]
  },
  {
   "cell_type": "code",
   "execution_count": 10,
   "metadata": {},
   "outputs": [
    {
     "data": {
      "text/plain": [
       "['1,88,838',\n",
       " '1,67,827',\n",
       " '1,48,187',\n",
       " '1,45,167',\n",
       " '1,24,130',\n",
       " '1,18,092',\n",
       " '1,17,150',\n",
       " '1,13,751',\n",
       " '1,08,564',\n",
       " '1,08,345']"
      ]
     },
     "execution_count": 10,
     "metadata": {},
     "output_type": "execute_result"
    }
   ],
   "source": [
    "# Extracting only digit values using regular expression\n",
    "pattern = re.compile(r\"\\d,\\d\\d,\\d\\d\\d\")\n",
    "units = []\n",
    "for i in unit_sold:\n",
    "    units.append(pattern.search(i))\n",
    "unit_s = [units[k].group() for k in range(len(units))] #Using list comprehension to print all the values\n",
    "unit_s"
   ]
  },
  {
   "cell_type": "code",
   "execution_count": 11,
   "metadata": {},
   "outputs": [
    {
     "name": "stdout",
     "output_type": "stream",
     "text": [
      "[188838, 167827, 148187, 145167, 124130, 118092, 117150, 113751, 108564, 108345]\n"
     ]
    }
   ],
   "source": [
    "# Removing commas and converting data-type to integer\n",
    "int_unit = []\n",
    "for i in range(len(units)):\n",
    "    int_unit.append(int(units[i].group().replace(',','')))\n",
    "print(int_unit)"
   ]
  },
  {
   "cell_type": "code",
   "execution_count": 12,
   "metadata": {},
   "outputs": [],
   "source": [
    "# Storing links of cars\n",
    "link2 = 'https://www.zigwheels.com/newcars/Maruti-Suzuki/wagon-r#leadform'\n",
    "link3 = 'https://www.zigwheels.com/newcars/Maruti-Suzuki/Swift'\n",
    "link4 = 'https://www.zigwheels.com/newcars/Maruti-Suzuki/baleno'\n",
    "link5 = 'https://www.zigwheels.com/newcars/Maruti-Suzuki/Alto-800'\n",
    "link6 = 'https://www.zigwheels.com/newcars/Tata/nexon'\n",
    "link7 = 'https://www.zigwheels.com/newcars/Hyundai/creta'\n",
    "link8 = 'https://www.zigwheels.com/newcars/Maruti-Suzuki/ertiga'\n",
    "link9 = 'https://www.zigwheels.com/newcars/Maruti-Suzuki/vitara-brezza'\n",
    "link10 = 'https://www.zigwheels.com/newcars/Maruti-Suzuki/dzire'\n",
    "link11 = 'https://www.zigwheels.com/newcars/Maruti-Suzuki/Eeco'"
   ]
  },
  {
   "cell_type": "code",
   "execution_count": 13,
   "metadata": {},
   "outputs": [
    {
     "name": "stdout",
     "output_type": "stream",
     "text": [
      "page2:  <Response [200]>\n",
      "page3:  <Response [200]>\n",
      "page4:  <Response [200]>\n",
      "page5:  <Response [200]>\n",
      "page6:  <Response [200]>\n",
      "page7:  <Response [200]>\n",
      "page8:  <Response [200]>\n",
      "page9:  <Response [200]>\n",
      "page10:  <Response [200]>\n",
      "page11:  <Response [200]>\n"
     ]
    }
   ],
   "source": [
    "# Checking and storing link's responses\n",
    "page2 = requests.get(link2)\n",
    "page3 = requests.get(link3)\n",
    "page4 = requests.get(link4)\n",
    "page5 = requests.get(link5)\n",
    "page6 = requests.get(link6)\n",
    "page7 = requests.get(link7)\n",
    "page8 = requests.get(link8)\n",
    "page9 = requests.get(link9)\n",
    "page10 = requests.get(link10)\n",
    "page11 = requests.get(link11)\n",
    "print(\"page2: \" ,page2)\n",
    "print(\"page3: \" ,page3)\n",
    "print(\"page4: \" ,page4)\n",
    "print(\"page5: \" ,page5)\n",
    "print(\"page6: \" ,page6)\n",
    "print(\"page7: \" ,page7)\n",
    "print(\"page8: \" ,page8)\n",
    "print(\"page9: \" ,page9)\n",
    "print(\"page10: \" ,page10)\n",
    "print(\"page11: \" ,page11)"
   ]
  },
  {
   "cell_type": "code",
   "execution_count": 14,
   "metadata": {},
   "outputs": [],
   "source": [
    "# Storing page content individually\n",
    "soup2=bs(page2.content,\"html.parser\")\n",
    "soup3=bs(page3.content,\"html.parser\")\n",
    "soup4=bs(page4.content,\"html.parser\")\n",
    "soup5=bs(page5.content,\"html.parser\")\n",
    "soup6=bs(page6.content,\"html.parser\")\n",
    "soup7=bs(page7.content,\"html.parser\")\n",
    "soup8=bs(page8.content,\"html.parser\")\n",
    "soup9=bs(page9.content,\"html.parser\")\n",
    "soup10=bs(page10.content,\"html.parser\")\n",
    "soup11=bs(page11.content,\"html.parser\")\n",
    "# print(soup2.prettify())"
   ]
  },
  {
   "cell_type": "code",
   "execution_count": 15,
   "metadata": {},
   "outputs": [],
   "source": [
    "# Scraping description of all cars using find()\n",
    "price1 = soup2.find(\"div\", class_ = \"clr-pry fnt-14 lh-22\", itemprop = \"description\").get_text()\n",
    "price2 = soup3.find(\"div\", class_ = \"clr-pry fnt-14 lh-22\", itemprop = \"description\").get_text()\n",
    "price3 = soup4.find(\"div\", class_ = \"clr-pry fnt-14 lh-22\", itemprop = \"description\").get_text()\n",
    "price4 = soup5.find(\"div\", class_ = \"clr-pry fnt-14 lh-22\", itemprop = \"description\").get_text()\n",
    "price5 = soup6.find(\"div\", class_ = \"pl-15 pr-15\").get_text()\n",
    "price6 = soup7.find(\"div\", class_ = \"pl-15 pr-15\").get_text()\n",
    "price7 = soup8.find(\"div\", class_ = \"clr-pry fnt-14 lh-22\", itemprop = \"description\").get_text()\n",
    "price8 = soup9.find(\"div\", class_ = \"clr-pry fnt-14 lh-22\", itemprop = \"description\").get_text()\n",
    "price9 = soup10.find(\"div\", class_ = \"clr-pry fnt-14 lh-22\", itemprop = \"description\").get_text()\n",
    "price10 = soup11.find(\"div\", class_ = \"clr-pry fnt-14 lh-22\", itemprop = \"description\").get_text()\n",
    "pri_ces = [price1, price2, price3, price4, price7, price8, price9, price10]\n",
    "pri_ces2 = [price5, price6]\n",
    "# print(price6)"
   ]
  },
  {
   "cell_type": "code",
   "execution_count": 16,
   "metadata": {
    "scrolled": true
   },
   "outputs": [
    {
     "name": "stdout",
     "output_type": "stream",
     "text": [
      "['5.47 Lakh - 7.20 Lakh', '5.91 Lakh - 8.85 Lakh', '6.49 Lakh - 9.71 Lakh', '3.39 Lakh - 5.03 Lakh', '8.41 Lakh - 12.79 Lakh', '7.99 Lakh - 13.96 Lakh', '6.24 Lakh - 9.17 Lakh', '4.63 Lakh - 5.94 Lakh']\n"
     ]
    }
   ],
   "source": [
    "# Scraping prices of all cars\n",
    "prices = [] \n",
    "pattern = re.compile(r\"\\d.\\d\\d Lakh to \\d.\\d\\d Lakh\")\n",
    "pattern2 = re.compile(r\"\\d.\\d\\d Lakh to \\d\\d.\\d\\d Lakh\")\n",
    "def price_scrapper(pr):\n",
    "    try:\n",
    "        prices.append(pattern.search(pr).group().replace('to', '-'))\n",
    "    except AttributeError:\n",
    "        prices.append(pattern2.search(pr).group().replace('to', '-'))\n",
    "for i in pri_ces:\n",
    "    price_scrapper(i)\n",
    "print(prices)"
   ]
  },
  {
   "cell_type": "code",
   "execution_count": 17,
   "metadata": {},
   "outputs": [
    {
     "name": "stdout",
     "output_type": "stream",
     "text": [
      "['5.47 Lakh - 7.20 Lakh', '5.91 Lakh - 8.85 Lakh', '6.49 Lakh - 9.71 Lakh', '3.39 Lakh - 5.03 Lakh', '7.59 Lakh - 12.77 Lakh', '0.44 Lakh - 18.15 Lakh', '8.41 Lakh - 12.79 Lakh', '7.99 Lakh - 13.96 Lakh', '6.24 Lakh - 9.17 Lakh', '4.63 Lakh - 5.94 Lakh']\n"
     ]
    }
   ],
   "source": [
    "#Scraping prices of all cars having NoneType\n",
    "prices2 = []\n",
    "pat = re.compile(r\"\\d.\\d\\d Lakh to Rs. \\d.\\d\\d Lakh\")\n",
    "pat2 = re.compile(r\"\\d.\\d\\d Lakh to Rs. \\d\\d.\\d\\d Lakh\")\n",
    "def price_scrapper2(pr):\n",
    "    try:\n",
    "        prices2.append(pat.search(pr).group().replace('to Rs.', '-'))\n",
    "    except AttributeError:\n",
    "        prices2.append(pat2.search(pr).group().replace('to Rs.', '-'))\n",
    "for i in pri_ces2:\n",
    "    price_scrapper2(i)\n",
    "# print(prices2)\n",
    "prices.insert(4,prices2[0])\n",
    "prices.insert(5,prices2[1])\n",
    "print(prices)"
   ]
  },
  {
   "cell_type": "code",
   "execution_count": 18,
   "metadata": {},
   "outputs": [
    {
     "data": {
      "text/html": [
       "<div>\n",
       "<style scoped>\n",
       "    .dataframe tbody tr th:only-of-type {\n",
       "        vertical-align: middle;\n",
       "    }\n",
       "\n",
       "    .dataframe tbody tr th {\n",
       "        vertical-align: top;\n",
       "    }\n",
       "\n",
       "    .dataframe thead th {\n",
       "        text-align: right;\n",
       "    }\n",
       "</style>\n",
       "<table border=\"1\" class=\"dataframe\">\n",
       "  <thead>\n",
       "    <tr style=\"text-align: right;\">\n",
       "      <th></th>\n",
       "      <th>Name of Cars</th>\n",
       "      <th>Units Sold</th>\n",
       "      <th>Price Range</th>\n",
       "    </tr>\n",
       "  </thead>\n",
       "  <tbody>\n",
       "    <tr>\n",
       "      <th>0</th>\n",
       "      <td>Maruti Suzuki Wagon R</td>\n",
       "      <td>188838</td>\n",
       "      <td>5.47 Lakh - 7.20 Lakh</td>\n",
       "    </tr>\n",
       "    <tr>\n",
       "      <th>1</th>\n",
       "      <td>Maruti Suzuki Swift</td>\n",
       "      <td>167827</td>\n",
       "      <td>5.91 Lakh - 8.85 Lakh</td>\n",
       "    </tr>\n",
       "    <tr>\n",
       "      <th>2</th>\n",
       "      <td>Maruti Suzuki Baleno</td>\n",
       "      <td>148187</td>\n",
       "      <td>6.49 Lakh - 9.71 Lakh</td>\n",
       "    </tr>\n",
       "    <tr>\n",
       "      <th>3</th>\n",
       "      <td>Maruti Suzuki Alto</td>\n",
       "      <td>145167</td>\n",
       "      <td>3.39 Lakh - 5.03 Lakh</td>\n",
       "    </tr>\n",
       "    <tr>\n",
       "      <th>4</th>\n",
       "      <td>Tata Nexon</td>\n",
       "      <td>124130</td>\n",
       "      <td>7.59 Lakh - 12.77 Lakh</td>\n",
       "    </tr>\n",
       "    <tr>\n",
       "      <th>5</th>\n",
       "      <td>Hyundai Creta</td>\n",
       "      <td>118092</td>\n",
       "      <td>0.44 Lakh - 18.15 Lakh</td>\n",
       "    </tr>\n",
       "    <tr>\n",
       "      <th>6</th>\n",
       "      <td>Maruti Suzuki Ertiga</td>\n",
       "      <td>117150</td>\n",
       "      <td>8.41 Lakh - 12.79 Lakh</td>\n",
       "    </tr>\n",
       "    <tr>\n",
       "      <th>7</th>\n",
       "      <td>Maruti Suzuki Vitara Brezza</td>\n",
       "      <td>113751</td>\n",
       "      <td>7.99 Lakh - 13.96 Lakh</td>\n",
       "    </tr>\n",
       "    <tr>\n",
       "      <th>8</th>\n",
       "      <td>Maruti Suzuki Dzire</td>\n",
       "      <td>108564</td>\n",
       "      <td>6.24 Lakh - 9.17 Lakh</td>\n",
       "    </tr>\n",
       "    <tr>\n",
       "      <th>9</th>\n",
       "      <td>Maruti Eeco</td>\n",
       "      <td>108345</td>\n",
       "      <td>4.63 Lakh - 5.94 Lakh</td>\n",
       "    </tr>\n",
       "  </tbody>\n",
       "</table>\n",
       "</div>"
      ],
      "text/plain": [
       "                  Name of Cars  Units Sold             Price Range\n",
       "0        Maruti Suzuki Wagon R      188838   5.47 Lakh - 7.20 Lakh\n",
       "1          Maruti Suzuki Swift      167827   5.91 Lakh - 8.85 Lakh\n",
       "2         Maruti Suzuki Baleno      148187   6.49 Lakh - 9.71 Lakh\n",
       "3           Maruti Suzuki Alto      145167   3.39 Lakh - 5.03 Lakh\n",
       "4                   Tata Nexon      124130  7.59 Lakh - 12.77 Lakh\n",
       "5                Hyundai Creta      118092  0.44 Lakh - 18.15 Lakh\n",
       "6         Maruti Suzuki Ertiga      117150  8.41 Lakh - 12.79 Lakh\n",
       "7  Maruti Suzuki Vitara Brezza      113751  7.99 Lakh - 13.96 Lakh\n",
       "8          Maruti Suzuki Dzire      108564   6.24 Lakh - 9.17 Lakh\n",
       "9                  Maruti Eeco      108345   4.63 Lakh - 5.94 Lakh"
      ]
     },
     "execution_count": 18,
     "metadata": {},
     "output_type": "execute_result"
    }
   ],
   "source": [
    "# Creating a dataframe out of scrapped data\n",
    "df = pd.DataFrame(data={'Name of Cars':car_names, 'Units Sold':int_unit, 'Price Range':prices})\n",
    "df"
   ]
  }
 ],
 "metadata": {
  "kernelspec": {
   "display_name": "Python 3",
   "language": "python",
   "name": "python3"
  },
  "language_info": {
   "codemirror_mode": {
    "name": "ipython",
    "version": 3
   },
   "file_extension": ".py",
   "mimetype": "text/x-python",
   "name": "python",
   "nbconvert_exporter": "python",
   "pygments_lexer": "ipython3",
   "version": "3.8.3"
  }
 },
 "nbformat": 4,
 "nbformat_minor": 4
}
